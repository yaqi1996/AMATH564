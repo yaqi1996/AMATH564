{
 "cells": [
  {
   "cell_type": "markdown",
   "metadata": {
    "id": "YkXyuplZp4aQ"
   },
   "source": [
    "# Lab 2: PyTorch Basics"
   ]
  },
  {
   "cell_type": "code",
   "execution_count": 2,
   "metadata": {
    "id": "p5dL4YeVorzV"
   },
   "outputs": [],
   "source": [
    "import torch\n",
    "import numpy as np"
   ]
  },
  {
   "cell_type": "markdown",
   "metadata": {
    "id": "EM6GQLv6j5uH"
   },
   "source": [
    "## Part 1: Tensors"
   ]
  },
  {
   "cell_type": "markdown",
   "metadata": {
    "id": "w-ULM1BdkBMt"
   },
   "source": [
    "Tensors operate much like numpy arrays, but have additional properties which allow them to be used more easily in machine learning, such as being compatible with GPUs and other hardware accelerators and being optimized for automatic differentiation."
   ]
  },
  {
   "cell_type": "markdown",
   "metadata": {
    "id": "rDar-UyQmRXX"
   },
   "source": [
    "### Tensor Attributes"
   ]
  },
  {
   "cell_type": "markdown",
   "metadata": {
    "id": "WUCv1fUWnCOP"
   },
   "source": [
    "**Shape**: A tuple (n1, n2, ... nd) indicating the dimesions of the Tensor. To refer to a particular dimension, use `dim`, (instead of `axis` for `np.array`).\n",
    "\n",
    "\n",
    "**Datatype**: Form of the data stored in the Tensor. Common datatypes include `torch.float`, `torch.long`, `torch.bool`. See https://pytorch.org/docs/stable/tensors.html for full list.\n",
    "\n",
    "**Device**: Default device is `torch.device('cpu')`. If you want to use your GPU, be sure that your PyTorch installation has CUDA compatibility. If you have a GPU available, you can set the device to `torch.device('cuda')`\n",
    "\n",
    "*Note*: If you have more than 1 GPU available, you can choose which gpu you would like to use by providing a device index. For example, `torch.device('cuda:0')` or `torch.device('cuda', index= 0)`"
   ]
  },
  {
   "cell_type": "code",
   "execution_count": 3,
   "metadata": {
    "colab": {
     "base_uri": "https://localhost:8080/"
    },
    "id": "mOOErpWtnMtk",
    "outputId": "af7eb568-e166-4d30-cb9c-543edea25a49"
   },
   "outputs": [
    {
     "name": "stdout",
     "output_type": "stream",
     "text": [
      "Shape of tensor: torch.Size([3, 4])\n",
      "Datatype of tensor: torch.float32\n",
      "Device tensor is stored on: cpu\n"
     ]
    }
   ],
   "source": [
    "tensor = torch.rand(3,4)\n",
    "\n",
    "print(f\"Shape of tensor: {tensor.shape}\")\n",
    "print(f\"Datatype of tensor: {tensor.dtype}\")\n",
    "print(f\"Device tensor is stored on: {tensor.device}\")"
   ]
  },
  {
   "cell_type": "markdown",
   "metadata": {
    "id": "RcOH3zDFlp4V"
   },
   "source": [
    "### Tensor Initialization\n",
    "\n",
    "Like numpy arrays, Tensors can be initialized directly from data (in the form of a list or numpy array), or from random or constant values.\n",
    "\n",
    "Tensors can also be converted into numpy arrays using `numpy()`. To do this, the Tensor must have its device set to `cpu`, or it will cause an error. You can easily move a Tensor to the cpu using `cpu()`. Similarly, you can move a Tensor to the GPU using `cuda()`."
   ]
  },
  {
   "cell_type": "code",
   "execution_count": 4,
   "metadata": {
    "colab": {
     "base_uri": "https://localhost:8080/"
    },
    "id": "CZ2lCpkhkP0J",
    "outputId": "0d295025-4f0b-4be0-98c2-6efa1b96c155"
   },
   "outputs": [
    {
     "name": "stdout",
     "output_type": "stream",
     "text": [
      "Ones Tensor: \n",
      " tensor([[1, 1],\n",
      "        [1, 1]]) \n",
      "\n",
      "Random Tensor: \n",
      " tensor([[0.1519, 0.4310],\n",
      "        [0.9273, 0.1919]]) \n",
      "\n"
     ]
    }
   ],
   "source": [
    "#From data\n",
    "data = [[1, 2], [3,4]]\n",
    "x_data = torch.tensor(data)\n",
    "\n",
    "#From Numpy Array\n",
    "np_array = np.array(data)\n",
    "x_np = torch.from_numpy(np_array)\n",
    "\n",
    "#From anaother tensor\n",
    "x_ones = torch.ones_like(x_data) # retains the properties of x_data\n",
    "print(f\"Ones Tensor: \\n {x_ones} \\n\")\n",
    "\n",
    "x_rand = torch.rand_like(x_data, dtype=torch.float) # overrides the datatype of x_data\n",
    "print(f\"Random Tensor: \\n {x_rand} \\n\")\n",
    "\n",
    "x_np = x_rand.cpu().numpy() #Move tensor to the cpu and then convert to numpy array"
   ]
  },
  {
   "cell_type": "code",
   "execution_count": 5,
   "metadata": {
    "colab": {
     "base_uri": "https://localhost:8080/"
    },
    "id": "_8vBJVhdku_N",
    "outputId": "abafcfd5-e3ee-4d21-b63e-5408f8a5a0a8"
   },
   "outputs": [
    {
     "name": "stdout",
     "output_type": "stream",
     "text": [
      "Random Tensor: \n",
      " tensor([[0.5990, 0.6066, 0.4638],\n",
      "        [0.7794, 0.4559, 0.3315]]) \n",
      "\n",
      "Ones Tensor: \n",
      " tensor([[1., 1., 1.],\n",
      "        [1., 1., 1.]]) \n",
      "\n",
      "Zeros Tensor: \n",
      " tensor([[0., 0., 0.],\n",
      "        [0., 0., 0.]])\n"
     ]
    }
   ],
   "source": [
    "#Random and constant values\n",
    "shape = (2,3,)\n",
    "rand_tensor = torch.rand(shape)\n",
    "ones_tensor = torch.ones(shape)\n",
    "zeros_tensor = torch.zeros(shape)\n",
    "\n",
    "print(f\"Random Tensor: \\n {rand_tensor} \\n\")\n",
    "print(f\"Ones Tensor: \\n {ones_tensor} \\n\")\n",
    "print(f\"Zeros Tensor: \\n {zeros_tensor}\")"
   ]
  },
  {
   "cell_type": "markdown",
   "metadata": {
    "id": "ACK_7S2ypHne"
   },
   "source": [
    "### Tensor Operations"
   ]
  },
  {
   "cell_type": "markdown",
   "metadata": {
    "id": "jRV947xEpc40"
   },
   "source": [
    "Many of the artihmetic operations for Tensors are equivalent to those for numpy arrays, such as:\n",
    "<ul>\n",
    "<li>Indexing</li>\n",
    "<li>Slicing</li>\n",
    "<li>Matrix Multiplication (`@` or `tensor.matmul` )</li>\n",
    "<li>Elementwise Multiplication (`*` or `tensor.mul`)</li>\n",
    "<li>Addition and Subtraction</li>\n",
    "</ul>\n",
    "\n",
    "To concatenate two Tensors, the you use `torch.cat`, which is similar to `np.concatenate`."
   ]
  },
  {
   "cell_type": "code",
   "execution_count": 6,
   "metadata": {
    "colab": {
     "base_uri": "https://localhost:8080/"
    },
    "id": "x-BaS_mqpRyK",
    "outputId": "3fc92d18-931b-41a5-804b-22123f8e9d01"
   },
   "outputs": [
    {
     "name": "stdout",
     "output_type": "stream",
     "text": [
      "tensor([[1., 1., 1., 1., 1., 1., 1., 1., 1., 1., 1., 1.],\n",
      "        [1., 1., 1., 1., 1., 1., 1., 1., 1., 1., 1., 1.],\n",
      "        [1., 1., 1., 1., 1., 1., 1., 1., 1., 1., 1., 1.],\n",
      "        [1., 1., 1., 1., 1., 1., 1., 1., 1., 1., 1., 1.]])\n"
     ]
    }
   ],
   "source": [
    "tensor = torch.ones(4, 4)\n",
    "#Matrix Multiplication\n",
    "y1 = tensor @ tensor.T\n",
    "y2 = tensor.matmul(tensor.T)\n",
    "\n",
    "#Elementwise Multiplication\n",
    "z1 = tensor * tensor\n",
    "z2 = tensor.mul(tensor)\n",
    "\n",
    "t1 = torch.cat([tensor, tensor, tensor], dim=1)\n",
    "print(t1)"
   ]
  },
  {
   "cell_type": "markdown",
   "metadata": {
    "id": "5TPP5Pf6sRlS"
   },
   "source": [
    "Single-element items can be converted to a Python numerical value using `item()`"
   ]
  },
  {
   "cell_type": "code",
   "execution_count": 7,
   "metadata": {
    "colab": {
     "base_uri": "https://localhost:8080/"
    },
    "id": "X0PgmlQPsO2d",
    "outputId": "7470088b-6f89-42fb-9f00-035111b68396"
   },
   "outputs": [
    {
     "name": "stdout",
     "output_type": "stream",
     "text": [
      "16.0 <class 'float'>\n"
     ]
    }
   ],
   "source": [
    "agg = tensor.sum()\n",
    "agg_item = agg.item()\n",
    "print(agg_item, type(agg_item))"
   ]
  },
  {
   "cell_type": "markdown",
   "metadata": {
    "id": "O7o92VwQtweK"
   },
   "source": [
    "## Part 2: Neural Net Models"
   ]
  },
  {
   "cell_type": "code",
   "execution_count": 8,
   "metadata": {
    "id": "my6ukgfhuyK0"
   },
   "outputs": [],
   "source": [
    "from torch import nn"
   ]
  },
  {
   "cell_type": "markdown",
   "metadata": {
    "id": "I5ol0c99w2MK"
   },
   "source": [
    "### Defining a Model"
   ]
  },
  {
   "cell_type": "markdown",
   "metadata": {
    "id": "pJT0OIxxt5tV"
   },
   "source": [
    "The base class for any model in PyTorch is `nn.Module`. Every model that you building should have a `forward` function, which defines how your model processes input data."
   ]
  },
  {
   "cell_type": "code",
   "execution_count": 9,
   "metadata": {
    "colab": {
     "base_uri": "https://localhost:8080/"
    },
    "id": "W-BsU5wit3kJ",
    "outputId": "b8cfd901-b352-414a-bc9e-d67c9890cbc1"
   },
   "outputs": [
    {
     "name": "stdout",
     "output_type": "stream",
     "text": [
      "ExModel(\n",
      "  (layer1): Linear(in_features=100, out_features=50, bias=True)\n",
      "  (act1): ReLU()\n",
      "  (output_layer): Linear(in_features=50, out_features=1, bias=True)\n",
      ")\n"
     ]
    }
   ],
   "source": [
    "class ExModel(nn.Module):\n",
    "  '''\n",
    "  Example model: A simple, two-layer NN with ReLU activation. \n",
    "  Input dimension is 100, output dimension is 1.\n",
    "  '''\n",
    "  def __init__(self):\n",
    "    super(ExModel, self).__init__()\n",
    "    self.layer1 = nn.Linear(100, 50)\n",
    "    self.act1 = nn.ReLU()\n",
    "    self.output_layer = nn.Linear(50, 1)\n",
    "\n",
    "  def forward(self, x):\n",
    "    x = self.layer1(x)\n",
    "    x = self.act1(x)\n",
    "    output= self.output_layer(x)\n",
    "    return output\n",
    "\n",
    "\n",
    "model = ExModel()\n",
    "print(model)"
   ]
  },
  {
   "cell_type": "markdown",
   "metadata": {
    "id": "Ibb5ihb0wJ4L"
   },
   "source": [
    "To process `input` using your model, simply call `model(input)`. Do not call `model.forward()` directly!"
   ]
  },
  {
   "cell_type": "code",
   "execution_count": 10,
   "metadata": {
    "colab": {
     "base_uri": "https://localhost:8080/"
    },
    "id": "T91BlOenvwqH",
    "outputId": "bf04d138-c942-4f9c-94ea-6ee50b14edf8"
   },
   "outputs": [
    {
     "name": "stdout",
     "output_type": "stream",
     "text": [
      "torch.Size([64, 1])\n"
     ]
    }
   ],
   "source": [
    "batch_size = 64\n",
    "input = torch.rand(batch_size, 100)\n",
    "predictions = model(input)\n",
    "print(predictions.shape)"
   ]
  },
  {
   "cell_type": "markdown",
   "metadata": {
    "id": "18fzs361wcrx"
   },
   "source": [
    "### Graph-based computation: Parameters, Autograd, and Optimization"
   ]
  },
  {
   "cell_type": "code",
   "execution_count": 11,
   "metadata": {
    "id": "6P_4gM25v-aM"
   },
   "outputs": [],
   "source": [
    "#Define hyperparameters for your training before initializing the optimizer\n",
    "learning_rate = 1e-1\n",
    "batch_size = 64\n",
    "epochs = 5"
   ]
  },
  {
   "cell_type": "markdown",
   "metadata": {
    "id": "ebYA0EMu1xdK"
   },
   "source": [
    "**Loss Function**\n",
    "\n",
    "We start by defining a loss function. For Regression, the most common loss function is `nn.MSELoss` (Mean Square Error). For classification, the most common losses are `nn.NLLLoss` (Negative Log Likelihood) or `nn.CrossEntropy` (which combines `nn.LogSoftmax` and `nn/NLLLoss`)."
   ]
  },
  {
   "cell_type": "code",
   "execution_count": 12,
   "metadata": {
    "id": "4igbJ41h2Ow2"
   },
   "outputs": [],
   "source": [
    "#Initialize the loss Function\n",
    "loss_fn = nn.MSELoss()"
   ]
  },
  {
   "cell_type": "markdown",
   "metadata": {
    "id": "BYCKylms3D6p"
   },
   "source": [
    "**Optimizer**\n",
    "\n",
    "Choose the optimizer you wish to use from those found in `torch.optim`. Commonly used optimizers include `SGD` and `Adam`. You can find the full list at https://pytorch.org/docs/stable/optim.html.\n",
    "\n",
    "When you define the optimizer, you must give the parameters the optimizer is optimizing. If all your parameters are contained in your model class, you can access them using `model.parameters()`."
   ]
  },
  {
   "cell_type": "code",
   "execution_count": 13,
   "metadata": {
    "id": "WGpzAb2E3Ods"
   },
   "outputs": [],
   "source": [
    "optimizer = torch.optim.SGD(model.parameters(), lr=learning_rate)"
   ]
  },
  {
   "cell_type": "markdown",
   "metadata": {
    "id": "64LSRBG_4Fpp"
   },
   "source": [
    "**Training Steps**\n",
    "\n",
    "For each iteration in the training loop, optimization occurs in three steps:\n",
    "- Call `optimizer.zero_grad()` to reset the gradients of the model parameters. By default, the gradients accumulate, so this ensures that the optimizer is not double-counting </li>\n",
    "-Backpropagate the prediction loss with a call to `loss.backward()`. This causes PyTorch to deposit the gradients of the loss with respect to each parameter. </li>\n",
    "- Call `optimizer.step()` to update the parameters according to the optimization scheme and gradients calculated in the backwards pass. </li>"
   ]
  },
  {
   "cell_type": "code",
   "execution_count": 14,
   "metadata": {
    "colab": {
     "base_uri": "https://localhost:8080/"
    },
    "id": "GPhwmqpM5QUl",
    "outputId": "ab28b5c3-45cb-47e7-f5a6-95df69507510"
   },
   "outputs": [
    {
     "name": "stdout",
     "output_type": "stream",
     "text": [
      "Training Loss: 0.2404\n",
      "Training Loss: 0.1334\n",
      "Training Loss: 0.0967\n",
      "Training Loss: 0.0714\n",
      "Training Loss: 0.0680\n",
      "Training Loss: 0.0665\n",
      "Training Loss: 0.0655\n",
      "Training Loss: 0.0646\n",
      "Training Loss: 0.0638\n",
      "Training Loss: 0.0629\n"
     ]
    }
   ],
   "source": [
    "#Randomly generate data and labels\n",
    "data = torch.rand(batch_size, 100)\n",
    "labels = torch.rand(batch_size, 1)\n",
    "epochs = 10\n",
    "\n",
    "#Training epochs\n",
    "for epoch in range(epochs):\n",
    "  optimizer.zero_grad()\n",
    "  out = model(data)           #Generate predictions using the model\n",
    "  loss = loss_fn(out, labels) #Loss/error\n",
    "  print(f'Training Loss: {loss:.4f}')\n",
    "  loss.backward()            #Propagate the gradients in backward pass\n",
    "  optimizer.step()           #Update the weights\n"
   ]
  },
  {
   "cell_type": "markdown",
   "metadata": {
    "id": "JFaq_ilu06Aa"
   },
   "source": [
    "### Saving and Loading Models"
   ]
  },
  {
   "cell_type": "markdown",
   "metadata": {
    "id": "KQspRTe81BtE"
   },
   "source": [
    "The weights of a model are stored in a `state_dict`. You can train a model's state dictionary alone, or the entire model (including size and other hyperparameters). To load the weights of a model, use `model.load_statedict()`."
   ]
  },
  {
   "cell_type": "code",
   "execution_count": 15,
   "metadata": {
    "id": "9twBhmrq0Ens"
   },
   "outputs": [],
   "source": [
    "#Saving a model state_dict\n",
    "model = ExModel()\n",
    "torch.save(model.state_dict(), 'model_weights.pth')\n",
    "model.load_state_dict(torch.load('model_weights.pth'))  #Load model weights\n",
    "\n",
    "\n",
    "#Saving a full model\n",
    "model = ExModel()\n",
    "torch.save(model, 'model.pth')\n",
    "model = torch.load('model.pth') #Load full model"
   ]
  },
  {
   "cell_type": "markdown",
   "metadata": {
    "id": "1Pcy4gjq2Q6K"
   },
   "source": [
    "During training, you can also save the state of your optimizer, which similarly has a state dictionary. This is especially important if you are using momentum-based optimizers (such as Adam)."
   ]
  },
  {
   "cell_type": "code",
   "execution_count": 16,
   "metadata": {
    "id": "vxkWe5Kl2hf4"
   },
   "outputs": [],
   "source": [
    "optimizer = torch.optim.Adam(model.parameters(), lr = learning_rate)\n",
    "torch.save(optimizer.state_dict(), 'optimizer_state.pth')\n",
    "optimizer.load_state_dict(torch.load('optimizer_state.pth'))"
   ]
  },
  {
   "cell_type": "markdown",
   "metadata": {
    "id": "9uenGHqZ277M"
   },
   "source": [
    "Often time, you might want to save many quantities at the same time when training a model. These can include:\n",
    "- Model weights/state\n",
    "- Optimizer weights/state\n",
    "- Training loss\n",
    "- Validation loss\n",
    "\n",
    "One common way to say all of these at once is using a dictionary. You can access all relevant quantities at a point in training in a single checkpoint.\n",
    "\n",
    "Note: You do not always need to save the model at each epoch. You may wish to define a `save_interval` to determine how often you save the weights."
   ]
  },
  {
   "cell_type": "code",
   "execution_count": 17,
   "metadata": {
    "id": "Lt-j0Gmf3iyf"
   },
   "outputs": [],
   "source": [
    "#Randomly generate data and labels\n",
    "data = torch.rand(batch_size, 100)\n",
    "labels = torch.rand(batch_size, 1)\n",
    "epochs = 10\n",
    "train_losses = []\n",
    "\n",
    "#Training epochs\n",
    "for epoch in range(epochs):\n",
    "  optimizer.zero_grad()\n",
    "  out = model(data)           #Generate predictions using the model\n",
    "  loss = loss_fn(out, labels) #Loss/error\n",
    "  train_losses.append(loss)\n",
    "  loss.backward()            #Propagate the gradients in backward pass\n",
    "  optimizer.step()\n",
    "  ckpt = {'train_losses': train_losses, 'model_weights': model.state_dict(),  # Define checkpoint\n",
    "          'optimizer_state': optimizer.state_dict()}                          # dictionary\n",
    "  torch.save(ckpt, f'trained_model_e{epoch}.ckpt')  #Save checkpoint for each epoch"
   ]
  },
  {
   "cell_type": "markdown",
   "metadata": {
    "id": "6Gid_b2tyw8_"
   },
   "source": [
    "## Example: Iris Classification"
   ]
  },
  {
   "cell_type": "code",
   "execution_count": 18,
   "metadata": {
    "id": "iRj-ie8Vy67K"
   },
   "outputs": [
    {
     "data": {
      "text/plain": [
       "int"
      ]
     },
     "execution_count": 18,
     "metadata": {},
     "output_type": "execute_result"
    }
   ],
   "source": [
    "from sklearn.datasets import load_iris\n",
    "from sklearn.model_selection import train_test_split\n",
    "from sklearn.preprocessing import StandardScaler\n",
    "import matplotlib.pyplot as plt\n",
    "\n",
    "iris = load_iris()\n",
    "X = iris['data']\n",
    "y = iris['target']\n",
    "names = iris['target_names']\n",
    "feature_names = iris['feature_names']\n",
    "\n",
    "# Scale data to have mean 0 and variance 1 \n",
    "# which is importance for convergence of the neural network\n",
    "scaler = StandardScaler()\n",
    "X_scaled = scaler.fit_transform(X)\n",
    "\n",
    "# Split the data set into training and testing\n",
    "X_train, X_test, y_train, y_test = train_test_split(\n",
    "    X_scaled, y, test_size=0.2, random_state=2)\n",
    "\n",
    "type(X_train.shape[1])"
   ]
  },
  {
   "cell_type": "code",
   "execution_count": 19,
   "metadata": {
    "id": "XjRBl-240fzm"
   },
   "outputs": [
    {
     "data": {
      "image/png": "[encoded data removed]",
      "text/plain": [
       "<Figure size 1152x432 with 2 Axes>"
      ]
     },
     "metadata": {
      "needs_background": "light"
     },
     "output_type": "display_data"
    }
   ],
   "source": [
    "fig, (ax1, ax2) = plt.subplots(1, 2, figsize=(16, 6))\n",
    "for target, target_name in enumerate(names):\n",
    "    X_plot = X[y == target]\n",
    "    ax1.plot(X_plot[:, 0], X_plot[:, 1], \n",
    "             linestyle='none', \n",
    "             marker='o', \n",
    "             label=target_name)\n",
    "ax1.set_xlabel(feature_names[0])\n",
    "ax1.set_ylabel(feature_names[1])\n",
    "ax1.axis('equal')\n",
    "ax1.legend();\n",
    "\n",
    "for target, target_name in enumerate(names):\n",
    "    X_plot = X[y == target]\n",
    "    ax2.plot(X_plot[:, 2], X_plot[:, 3], \n",
    "             linestyle='none', \n",
    "             marker='o', \n",
    "             label=target_name)\n",
    "ax2.set_xlabel(feature_names[2])\n",
    "ax2.set_ylabel(feature_names[3])\n",
    "ax2.axis('equal')\n",
    "ax2.legend();"
   ]
  },
  {
   "cell_type": "code",
   "execution_count": 20,
   "metadata": {
    "id": "NX6J7qO50em2"
   },
   "outputs": [],
   "source": [
    "import torch.nn.functional as F\n",
    "class Model(nn.Module):\n",
    "    def __init__(self, input_dim):\n",
    "        super(Model, self).__init__()\n",
    "        self.layer1 = nn.Linear(input_dim, 50)\n",
    "        self.layer2 = nn.Linear(50, 50)\n",
    "        self.layer3 = nn.Linear(50, 3)\n",
    "        \n",
    "    def forward(self, x):\n",
    "        x = F.relu(self.layer1(x))\n",
    "        x = F.relu(self.layer2(x))\n",
    "        x = F.softmax(self.layer3(x), dim=1)\n",
    "        return x"
   ]
  },
  {
   "cell_type": "code",
   "execution_count": 21,
   "metadata": {
    "id": "Y_cmxgxD0nN4"
   },
   "outputs": [
    {
     "data": {
      "text/plain": [
       "Model(\n",
       "  (layer1): Linear(in_features=4, out_features=50, bias=True)\n",
       "  (layer2): Linear(in_features=50, out_features=50, bias=True)\n",
       "  (layer3): Linear(in_features=50, out_features=3, bias=True)\n",
       ")"
      ]
     },
     "execution_count": 21,
     "metadata": {},
     "output_type": "execute_result"
    }
   ],
   "source": [
    "model     = Model(X_train.shape[1])\n",
    "optimizer = torch.optim.Adam(model.parameters(), lr=0.001)\n",
    "loss_fn   = nn.CrossEntropyLoss()\n",
    "model"
   ]
  },
  {
   "cell_type": "code",
   "execution_count": 22,
   "metadata": {
    "id": "hyt-DraC1gVV"
   },
   "outputs": [
    {
     "name": "stderr",
     "output_type": "stream",
     "text": [
      "100%|██████████| 100/100 [00:00<00:00, 1096.66it/s]\n"
     ]
    }
   ],
   "source": [
    "import tqdm\n",
    "\n",
    "EPOCHS  = 100\n",
    "X_train = torch.from_numpy(X_train).float()\n",
    "y_train = torch.from_numpy(y_train).long()\n",
    "X_test  = torch.from_numpy(X_test).float()\n",
    "y_test  = torch.from_numpy(y_test).long()\n",
    "\n",
    "loss_list     = np.zeros((EPOCHS,))\n",
    "accuracy_list = np.zeros((EPOCHS,))\n",
    "\n",
    "for epoch in tqdm.trange(EPOCHS):\n",
    "    y_pred = model(X_train)\n",
    "    loss = loss_fn(y_pred, y_train)\n",
    "    loss_list[epoch] = loss.item()\n",
    "    \n",
    "    # Zero gradients\n",
    "    optimizer.zero_grad()\n",
    "    loss.backward()\n",
    "    optimizer.step()\n",
    "    \n",
    "    with torch.no_grad():\n",
    "        y_pred = model(X_test)\n",
    "        correct = (torch.argmax(y_pred, dim=1) == y_test).type(torch.FloatTensor)\n",
    "        accuracy_list[epoch] = correct.mean()"
   ]
  },
  {
   "cell_type": "code",
   "execution_count": 23,
   "metadata": {
    "id": "cHKYZP0o3cdC"
   },
   "outputs": [
    {
     "data": {
      "image/png": "[encoded data removed]",
      "text/plain": [
       "<Figure size 864x432 with 2 Axes>"
      ]
     },
     "metadata": {
      "needs_background": "light"
     },
     "output_type": "display_data"
    }
   ],
   "source": [
    "fig, (ax1, ax2) = plt.subplots(2, figsize=(12, 6), sharex=True)\n",
    "\n",
    "ax1.plot(accuracy_list)\n",
    "ax1.set_ylabel(\"validation accuracy\")\n",
    "ax2.plot(loss_list)\n",
    "ax2.set_ylabel(\"training loss\")\n",
    "ax2.set_xlabel(\"epochs\");"
   ]
  },
  {
   "cell_type": "markdown",
   "metadata": {
    "id": "b7h7N_1X4lmI"
   },
   "source": [
    "## Lab Assignment: MNIST Classification Task"
   ]
  },
  {
   "cell_type": "markdown",
   "metadata": {
    "id": "B0vR5I9h4s8V"
   },
   "source": [
    "Design your own MNIST Classification model (see video recording for explanation of MNIST dataset). You may choose your own hyperparameters, including:\n",
    "- Number of layers\n",
    "- Number of neurons in each layer\n",
    "- Learning rate\n",
    "- Number of training epochs\n",
    "- Optimizer\n",
    "\n",
    "Using a fully-connected network, you should be able to accomplish >90% accuracy on the test set. Please report your hyperparameter selections and accuracy in a summary at the end of the notebook."
   ]
  },
  {
   "cell_type": "markdown",
   "metadata": {
    "id": "ly85jvec6V6A"
   },
   "source": [
    "To load the MNIST dataset, we will use `torchvision`, which contains the datasets and has useful transformations. Start by defining the batch size you want for your training and test sets"
   ]
  },
  {
   "cell_type": "code",
   "execution_count": 29,
   "metadata": {
    "id": "feGo1EKE4sRg"
   },
   "outputs": [
    {
     "data": {
      "text/plain": [
       "<torch.utils.data.dataloader.DataLoader at 0x7fd75e6d7d90>"
      ]
     },
     "execution_count": 29,
     "metadata": {},
     "output_type": "execute_result"
    }
   ],
   "source": [
    "import torchvision\n",
    "from math import floor, ceil\n",
    "\n",
    "train_batch_size = 64 #Define train batch size\n",
    "test_batch_size  = 64 #Define test batch size (can be larger than train batch size)\n",
    "\n",
    "\n",
    "# Use the following code to load and normalize the dataset\n",
    "raw_train_set = torchvision.datasets.MNIST('./data', train=True, download=True,\n",
    "                             transform=torchvision.transforms.Compose([\n",
    "                               torchvision.transforms.ToTensor(),\n",
    "                               torchvision.transforms.Normalize(\n",
    "                                 (0.1307,), (0.3081,))\n",
    "                             ]))\n",
    "# print([floor(len(raw_train_set)*0.8), floor(len(raw_train_set)*0.2)+1])\n",
    "train_set, val_set = torch.utils.data.random_split(raw_train_set, [floor(len(raw_train_set)*0.8), floor(len(raw_train_set)*0.2)])\n",
    "\n",
    "train_loader_new = torch.utils.data.DataLoader(train_set, batch_size=train_batch_size, shuffle=True)\n",
    "\n",
    "val_loader = torch.utils.data.DataLoader(val_set, batch_size=train_batch_size, shuffle=True)\n",
    "\n",
    "# (input, targets)\n",
    "\n",
    "\n",
    "# print(train_loader_new.shape())\n",
    "\n",
    "# train_loader_data = []\n",
    "# i = 0\n",
    "# for data, target in train_loader_new:\n",
    "#     train_loader_data[i] = data\n",
    "#     i += 1\n",
    "\n",
    "# X_train, y_train, X_val, y_val = torch.utils.data.random_split(train_loader, [floor(len(train_loader)*0.8), floor(len(train_loader)*0.2)+1])\n",
    "\n",
    "\n",
    "test_loader = torch.utils.data.DataLoader(\n",
    "  torchvision.datasets.MNIST('./data', train=False, download=True,\n",
    "                             transform=torchvision.transforms.Compose([\n",
    "                               torchvision.transforms.ToTensor(),\n",
    "                               torchvision.transforms.Normalize(\n",
    "                                 (0.1307,), (0.3081,))\n",
    "                             ])),\n",
    "  batch_size=test_batch_size, shuffle=True)\n",
    "\n",
    "train_loader_new"
   ]
  },
  {
   "cell_type": "code",
   "execution_count": 32,
   "metadata": {
    "id": "HrvoPg1f7Gxu"
   },
   "outputs": [],
   "source": [
    "#Define your network:\n",
    "class Network(nn.Module):\n",
    "    def __init__(self, input_dim): #Can provide additional inputs for initialization\n",
    "    #Define the network layer(s) and activation function(s)\n",
    "        super(Network, self).__init__()\n",
    "        self.layer1 = nn.Linear(input_dim, 50)\n",
    "        self.layer2 = nn.Linear(50, 50)\n",
    "        self.layer3 = nn.Linear(50, 10)\n",
    "    \n",
    "    def forward(self, input):\n",
    "    #How does your model process the input?\n",
    "        output = F.relu(self.layer1(input))\n",
    "        output = F.relu(self.layer2(output))\n",
    "        output = F.softmax(self.layer3(output), dim=1)\n",
    "        return output"
   ]
  },
  {
   "cell_type": "code",
   "execution_count": 41,
   "metadata": {
    "id": "0F_DyktW8Bgw"
   },
   "outputs": [
    {
     "name": "stdout",
     "output_type": "stream",
     "text": [
      "0\n",
      "1\n",
      "2\n",
      "3\n",
      "4\n",
      "5\n",
      "6\n",
      "7\n",
      "8\n",
      "9\n"
     ]
    }
   ],
   "source": [
    "counter = 28*28\n",
    "# for i, (train_sample, train_target) in enumerate(train_loader_new):\n",
    "#     print(train_target.shape)\n",
    "    \n",
    "#Define your optimizer\n",
    "model = Network(counter)\n",
    "optimizer = torch.optim.Adam(model.parameters(), lr=0.001)\n",
    "epochs = 10\n",
    "\n",
    "loss_list     = np.zeros((epochs,))\n",
    "accuracy_list = np.zeros((epochs,))\n",
    "\n",
    "\n",
    "for epoch in range(epochs):\n",
    "    print(epoch)\n",
    "    for i, (train_sample, train_target) in enumerate(train_loader_new):\n",
    "        #Calculate training loss on model\n",
    "        \n",
    "        train_sample=train_sample.view(train_sample.size(0),28*28)\n",
    "        y_pred = model(train_sample)\n",
    "        loss = loss_fn(y_pred, train_target)  # ?\n",
    "        loss_list[epoch] = loss.item()\n",
    "\n",
    "        # Zero gradients\n",
    "        optimizer.zero_grad()\n",
    "        loss.backward()\n",
    "        optimizer.step()\n",
    "        \n",
    "    for i, (val_sample, val_target) in enumerate(val_loader):\n",
    "        val_sample=val_sample.view(val_sample.size(0),28*28)\n",
    "        with torch.no_grad():\n",
    "            y_pred = model(val_sample)\n",
    "            correct = (torch.argmax(y_pred, dim=1) == val_target).type(torch.FloatTensor)\n",
    "            accuracy_list[epoch] = correct.mean()\n",
    "\n",
    "#Calculate loss on test set\n",
    "test_loss_list     = np.zeros((epochs,))\n",
    "test_accuracy_list = np.zeros((epochs,))\n",
    "\n",
    "for epoch in range(epochs):\n",
    "    for i, (test_sample, test_target) in enumerate(test_loader):\n",
    "        test_sample=test_sample.view(test_sample.size(0),28*28)\n",
    "        with torch.no_grad():\n",
    "            y_pred = model(test_sample)\n",
    "            correct = (torch.argmax(y_pred, dim=1) == test_target).type(torch.FloatTensor)\n",
    "            test_accuracy_list[epoch] = correct.mean()\n",
    "            \n",
    "        #Calculate training loss on model\n",
    "#         y_pred = model(X_train)\n",
    "#         loss = loss_fn(y_pred, y_train)\n",
    "#         loss_list[epoch] = loss.item()\n",
    "\n",
    "        # Zero gradients\n",
    "#         optimizer.zero_grad()\n",
    "#         loss.backward()\n",
    "#         optimizer.step()\n",
    "        \n",
    "        "
   ]
  },
  {
   "cell_type": "code",
   "execution_count": 44,
   "metadata": {},
   "outputs": [
    {
     "data": {
      "text/plain": [
       "0.9375"
      ]
     },
     "execution_count": 44,
     "metadata": {},
     "output_type": "execute_result"
    },
    {
     "data": {
      "image/png": "[encoded data removed]",
      "text/plain": [
       "<Figure size 864x432 with 2 Axes>"
      ]
     },
     "metadata": {
      "needs_background": "light"
     },
     "output_type": "display_data"
    }
   ],
   "source": [
    "fig, (ax1, ax2) = plt.subplots(2, figsize=(12, 6), sharex=True)\n",
    "\n",
    "ax1.plot(accuracy_list)\n",
    "ax1.set_ylabel(\"test accuracy\")\n",
    "ax2.plot(loss_list)\n",
    "ax2.set_ylabel(\"training loss\")\n",
    "ax2.set_xlabel(\"epochs\");\n",
    "\n",
    "# accuracy_list[49]\n",
    "test_accuracy_list[0]"
   ]
  },
  {
   "cell_type": "markdown",
   "metadata": {
    "id": "kqnEUuaAby8q"
   },
   "source": [
    "summary:\n",
    "1. Number of layers: 3 layers.\n",
    "2. Neurons in each layer: 50 neurons in each layer.\n",
    "3. Activation function: Relu for layers 1 and 2, softmax for layer 3.\n",
    "4. Learning Rate: 0.001.\n",
    "5. Number of Training Epochs: 10.\n",
    "The accuracy for my best-performing network is 93.75%."
   ]
  },
  {
   "cell_type": "code",
   "execution_count": null,
   "metadata": {
    "id": "iR2MwC2mcIz4"
   },
   "outputs": [],
   "source": []
  },
  {
   "cell_type": "code",
   "execution_count": null,
   "metadata": {
    "id": "Ac1wn7CKcMns"
   },
   "outputs": [],
   "source": []
  }
 ],
 "metadata": {
  "colab": {
   "collapsed_sections": [
    "EM6GQLv6j5uH"
   ],
   "name": "Lab 2- PyTorch Basics.ipynb",
   "provenance": []
  },
  "kernelspec": {
   "display_name": "Python 3",
   "language": "python",
   "name": "python3"
  },
  "language_info": {
   "codemirror_mode": {
    "name": "ipython",
    "version": 3
   },
   "file_extension": ".py",
   "mimetype": "text/x-python",
   "name": "python",
   "nbconvert_exporter": "python",
   "pygments_lexer": "ipython3",
   "version": "3.7.6"
  }
 },
 "nbformat": 4,
 "nbformat_minor": 1
}
